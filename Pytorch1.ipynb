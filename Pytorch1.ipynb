{
  "nbformat": 4,
  "nbformat_minor": 0,
  "metadata": {
    "colab": {
      "provenance": [],
      "gpuType": "T4"
    },
    "kernelspec": {
      "name": "python3",
      "display_name": "Python 3"
    },
    "language_info": {
      "name": "python"
    },
    "accelerator": "GPU"
  },
  "cells": [
    {
      "cell_type": "code",
      "execution_count": null,
      "metadata": {
        "id": "qneutz4hzHF6"
      },
      "outputs": [],
      "source": [
        "import numpy as np\n",
        "import torch\n",
        "import torch.nn as nn\n",
        "import torch.optim as optim\n",
        "from torch.utils.data import Dataset, DataLoader\n",
        "from torchvision import transforms\n",
        "import matplotlib.pyplot as plt"
      ]
    },
    {
      "cell_type": "code",
      "source": [
        "x = torch.tensor([1.,2.,2.]).float()\n",
        "print(x)\n",
        "print(x.type())"
      ],
      "metadata": {
        "colab": {
          "base_uri": "https://localhost:8080/"
        },
        "id": "O_z3-70lzrUz",
        "outputId": "5625c89b-c67c-4e17-8922-0325f9021ef1"
      },
      "execution_count": null,
      "outputs": [
        {
          "output_type": "stream",
          "name": "stdout",
          "text": [
            "tensor([1., 2., 2.])\n",
            "torch.FloatTensor\n"
          ]
        }
      ]
    },
    {
      "cell_type": "code",
      "source": [
        "y = torch.rand(4,5)\n",
        "print(y)"
      ],
      "metadata": {
        "colab": {
          "base_uri": "https://localhost:8080/"
        },
        "id": "iFr7DLuN0Sat",
        "outputId": "49eed30b-c54f-48a3-da7b-2ae60455d7f0"
      },
      "execution_count": null,
      "outputs": [
        {
          "output_type": "stream",
          "name": "stdout",
          "text": [
            "tensor([[0.4058, 0.6222, 0.5286, 0.5712, 0.2417],\n",
            "        [0.5199, 0.7004, 0.3693, 0.9999, 0.0620],\n",
            "        [0.4248, 0.4557, 0.1707, 0.0892, 0.6532],\n",
            "        [0.0259, 0.3994, 0.4588, 0.7398, 0.6715]])\n"
          ]
        }
      ]
    },
    {
      "cell_type": "code",
      "source": [
        "z=torch.zeros(4,5)\n",
        "print(z)"
      ],
      "metadata": {
        "colab": {
          "base_uri": "https://localhost:8080/"
        },
        "id": "RnbvBI9k0YIF",
        "outputId": "b8bda7bc-3c22-4b3e-d369-73c1554daec6"
      },
      "execution_count": null,
      "outputs": [
        {
          "output_type": "stream",
          "name": "stdout",
          "text": [
            "tensor([[0., 0., 0., 0., 0.],\n",
            "        [0., 0., 0., 0., 0.],\n",
            "        [0., 0., 0., 0., 0.],\n",
            "        [0., 0., 0., 0., 0.]])\n"
          ]
        }
      ]
    },
    {
      "cell_type": "code",
      "source": [
        "w = torch.ones(4,5)\n",
        "print(w)"
      ],
      "metadata": {
        "colab": {
          "base_uri": "https://localhost:8080/"
        },
        "id": "9F53i5xr0gg1",
        "outputId": "83bf6b1f-6ce4-4632-ea74-8fffec8f5477"
      },
      "execution_count": null,
      "outputs": [
        {
          "output_type": "stream",
          "name": "stdout",
          "text": [
            "tensor([[1., 1., 1., 1., 1.],\n",
            "        [1., 1., 1., 1., 1.],\n",
            "        [1., 1., 1., 1., 1.],\n",
            "        [1., 1., 1., 1., 1.]])\n"
          ]
        }
      ]
    },
    {
      "cell_type": "code",
      "source": [
        "a = torch.tensor([0.,1.,2.]).float()\n",
        "b = torch.tensor([1.,3.,5.]).float()\n",
        "c = torch.add(a,b)\n",
        "print(c)"
      ],
      "metadata": {
        "colab": {
          "base_uri": "https://localhost:8080/"
        },
        "id": "a6vBPkl30nMn",
        "outputId": "bc219228-6bd9-461a-d9d2-4c0a1b07c289"
      },
      "execution_count": null,
      "outputs": [
        {
          "output_type": "stream",
          "name": "stdout",
          "text": [
            "tensor([1., 4., 7.])\n"
          ]
        }
      ]
    },
    {
      "cell_type": "code",
      "source": [
        "np_arr = np.array([1.,2.,3.], dtype=np.float32)\n",
        "tensor = torch.from_numpy(np_arr)  # o torch.tensor(np_arr)\n",
        "print(tensor)\n",
        "numpy_arr2 = tensor.numpy() #go back to numpy array\n",
        "print(numpy_arr2)"
      ],
      "metadata": {
        "colab": {
          "base_uri": "https://localhost:8080/"
        },
        "id": "xGaH2gv65MCO",
        "outputId": "857495ad-a73e-4db5-b4b1-c43b521fa629"
      },
      "execution_count": null,
      "outputs": [
        {
          "output_type": "stream",
          "name": "stdout",
          "text": [
            "tensor([1., 2., 3.])\n",
            "[1. 2. 3.]\n"
          ]
        }
      ]
    },
    {
      "cell_type": "code",
      "source": [
        "a = torch.rand(4)\n",
        "b = torch.rand(4)\n",
        "if torch.cuda.is_available():\n",
        "  print(\"GPU available\")\n",
        "  device = torch.device(\"cuda\")\n",
        "  a = a.to(device)\n",
        "  b = b.to(device)\n",
        "else:\n",
        "  print(\"GPU not available\")\n",
        "\n",
        "\n",
        "c = a+b\n",
        "c = c.cpu()\n",
        "print(c)\n",
        "\n"
      ],
      "metadata": {
        "colab": {
          "base_uri": "https://localhost:8080/"
        },
        "id": "YptFTQzS6MG1",
        "outputId": "6919696a-f9af-42d0-ef20-3a95b8aa0762"
      },
      "execution_count": null,
      "outputs": [
        {
          "output_type": "stream",
          "name": "stdout",
          "text": [
            "GPU available\n",
            "tensor([0.9761, 0.7380, 0.2436, 0.7497])\n"
          ]
        }
      ]
    },
    {
      "cell_type": "code",
      "source": [
        "x = torch.tensor([2.0], requires_grad=True).float()\n",
        "y = torch.tensor([3.0], requires_grad=True).float()\n",
        "z = 3*x**2 + y**3\n",
        "z.backward()\n",
        "print(f\"Derivative of z wrt. x eval in 2.0 dz/dx =  ({x},{x.grad})\")\n",
        "print(f\"Derivative of z wrt. y eval in 3.0 dz/dy =  ({y},{y.grad})\")"
      ],
      "metadata": {
        "colab": {
          "base_uri": "https://localhost:8080/"
        },
        "id": "4sMxX7cb5ucV",
        "outputId": "4e07f34e-d80c-4f35-f67b-072ae97806c9"
      },
      "execution_count": null,
      "outputs": [
        {
          "output_type": "stream",
          "name": "stdout",
          "text": [
            "Derivative of z wrt. x eval in 2.0 dz/dx =  (tensor([2.], requires_grad=True),tensor([12.]))\n",
            "Derivative of z wrt. y eval in 3.0 dz/dy =  (tensor([3.], requires_grad=True),tensor([27.]))\n"
          ]
        }
      ]
    },
    {
      "cell_type": "code",
      "source": [
        "x = torch.linspace(-10,10,1000, requires_grad=True)\n",
        "y = torch.sigmoid(x)\n",
        "print(y.size())\n",
        "y.sum().backward()   #Trick to calculate derivative of y = sigmoid(x) for each component of xi corresponding to each yi\n",
        "plt.plot(x.data.numpy(), y.data.numpy(), label='Sigmoid')\n",
        "plt.plot(x.data.numpy(), x.grad.numpy(), label='Sigmoid_derivative')\n",
        "plt.show()"
      ],
      "metadata": {
        "colab": {
          "base_uri": "https://localhost:8080/",
          "height": 447
        },
        "id": "4DqeIj5N9ltC",
        "outputId": "52515cf2-d4f8-4a23-b831-a77561e45178"
      },
      "execution_count": null,
      "outputs": [
        {
          "output_type": "stream",
          "name": "stdout",
          "text": [
            "torch.Size([1000])\n"
          ]
        },
        {
          "output_type": "display_data",
          "data": {
            "text/plain": [
              "<Figure size 640x480 with 1 Axes>"
            ],
            "image/png": "[encoded data removed]"
          },
          "metadata": {}
        }
      ]
    },
    {
      "cell_type": "code",
      "source": [
        "class Net(nn.Module):\n",
        "\n",
        "    def __init__(self, Ni, Nh, No):\n",
        "        \"\"\"\n",
        "        Ni - Input size\n",
        "        Nh - Neurons in the hidden layer\n",
        "        No - Output size\n",
        "        \"\"\"\n",
        "        super().__init__()\n",
        "\n",
        "        print('Network initialized')\n",
        "        self.fc1 = nn.Linear(in_features=Ni, out_features=Nh)\n",
        "        self.out = nn.Linear(in_features=Nh, out_features=No)\n",
        "        self.act = nn.Sigmoid()\n",
        "\n",
        "    def forward(self, x):\n",
        "        x = self.act(self.fc1(x))\n",
        "        x = self.out(x)\n",
        "        return x\n"
      ],
      "metadata": {
        "id": "OAMQmyLdDA2e"
      },
      "execution_count": null,
      "outputs": []
    },
    {
      "cell_type": "code",
      "source": [
        "Ni = 1\n",
        "Nh = 32\n",
        "No = 1\n",
        "torch.manual_seed(0)\n",
        "net = Net(Ni, Nh, No)\n",
        "print(net)"
      ],
      "metadata": {
        "colab": {
          "base_uri": "https://localhost:8080/"
        },
        "id": "WR11SB3KHwoH",
        "outputId": "853a9920-3d5d-476c-a0a7-ee84e2641981"
      },
      "execution_count": null,
      "outputs": [
        {
          "output_type": "stream",
          "name": "stdout",
          "text": [
            "Network initialized\n",
            "Net(\n",
            "  (fc1): Linear(in_features=1, out_features=32, bias=True)\n",
            "  (out): Linear(in_features=32, out_features=1, bias=True)\n",
            "  (act): Sigmoid()\n",
            ")\n"
          ]
        }
      ]
    },
    {
      "cell_type": "code",
      "source": [
        "x = torch.rand(128, 1)   #Initialize input vector of dimension N x Ni = 128 x 1\n",
        "\n",
        "out = net(x)\n",
        "#print(f\"Output vector: {out}\")"
      ],
      "metadata": {
        "id": "Ri9kL0V5IeSb"
      },
      "execution_count": null,
      "outputs": []
    },
    {
      "cell_type": "code",
      "source": [
        "\n",
        "#testing only  (no gradients operations are saved to backprop and update params (to do anyway after the forward pass))\n",
        "with torch.no_grad():\n",
        "  out_test = net(x)\n",
        "#print(f'Output of the test: {out_test}')"
      ],
      "metadata": {
        "id": "kkvnf7h4JpGF"
      },
      "execution_count": null,
      "outputs": []
    },
    {
      "cell_type": "code",
      "source": [
        "if torch.cuda.is_available():\n",
        "  print(\"Can use GPU :)\")\n",
        "  device = torch.device(\"cuda\")\n",
        "else:\n",
        "  print(\"GPU not available D:\")\n",
        "  device = torch.device(\"cpu\")\n",
        "print(f\"Selected device {device}\")\n",
        "\n",
        "#transfer net params to GPU\n",
        "net.to(device)\n",
        "# Transfer input data to GPU and computes output\n",
        "output = net(x.to(device))\n",
        "#print(output)"
      ],
      "metadata": {
        "colab": {
          "base_uri": "https://localhost:8080/"
        },
        "id": "I5YYYbwrMs5V",
        "outputId": "6a11a6a1-21d2-4525-a1fd-80dd1220c666"
      },
      "execution_count": null,
      "outputs": [
        {
          "output_type": "stream",
          "name": "stdout",
          "text": [
            "Can use GPU :)\n",
            "Selected device cuda\n"
          ]
        }
      ]
    },
    {
      "cell_type": "code",
      "source": [
        "#How to define loss function? Already implemented in Pytorch :)\n",
        "loss_function = nn.MSELoss()\n",
        "a = torch.rand(10)\n",
        "b = torch.rand(10)\n",
        "loss_value = loss_function(a,b)\n",
        "print(f\"Loss function value (precomputed): {loss_value}\")\n",
        "loss2 = np.mean((a.numpy()-b.numpy())**2.)\n",
        "print(f'Loss calculated analytically: {loss2}')\n"
      ],
      "metadata": {
        "colab": {
          "base_uri": "https://localhost:8080/"
        },
        "id": "iDOjoHmKOs_Q",
        "outputId": "68be8e4f-5e76-4e23-ceb0-c2ae8a61de42"
      },
      "execution_count": null,
      "outputs": [
        {
          "output_type": "stream",
          "name": "stdout",
          "text": [
            "Loss function value (precomputed): 0.10292629152536392\n",
            "Loss calculated analytically: 0.10292629152536392\n"
          ]
        }
      ]
    },
    {
      "cell_type": "code",
      "source": [
        "#Backpropagation\n",
        "#Create values and labels and put into GPU\n",
        "x = torch.rand(128,1).to(device)\n",
        "label = torch.rand(128,1).to(device)\n",
        "#Forward pass\n",
        "out = net(x)\n",
        "#loss function eval\n",
        "loss = loss_function(out, label)\n",
        "\n",
        "#Backpropagation\n",
        "net.zero_grad()\n",
        "loss.backward()\n",
        "\n",
        "\n",
        "\n",
        "\n"
      ],
      "metadata": {
        "id": "czQ7e2tvQCOw"
      },
      "execution_count": null,
      "outputs": []
    },
    {
      "cell_type": "code",
      "source": [
        "#Check\n",
        "params = next(net.fc1.parameters())\n",
        "#print(\"#########################\")\n",
        "#print(\"#########################\")\n",
        "#print(f\"VALUES\")\n",
        "#print(\"#########################\")\n",
        "#print(params)\n",
        "\n",
        "#print(\"\\n#########################\")\n",
        "#print(\"#########################\")\n",
        "#print(f\"GRADIENTS\")\n",
        "#print(\"#########################\")\n",
        "#print(params.grad)"
      ],
      "metadata": {
        "id": "Aj2PqzMCTiJo"
      },
      "execution_count": null,
      "outputs": []
    },
    {
      "cell_type": "code",
      "source": [
        "#Update parameters\n",
        "x = torch.rand(128, 1).to(device)\n",
        "label = torch.rand(128, 1).to(device)\n",
        "loss_function = nn.MSELoss()\n",
        "optimizer = optim.Adam(net.parameters(), lr=0.001) #Provide the parameters to optimize and the extra parameters i.e. lr.\n",
        "\n",
        "out = net(x)\n",
        "loss = loss_function(out, label)\n",
        "#backpropagation\n",
        "net.zero_grad()\n",
        "loss.backward()\n",
        "#update weights\n",
        "print(f\"A specific weight before update:  {next(net.fc1.parameters())[0]}\")\n",
        "optimizer.step()  #This effectively optimizes the network's parameters\n",
        "print(f\"A specific weight after update: {next(net.fc1.parameters())[0]}\")"
      ],
      "metadata": {
        "id": "epqMmPPqTqVq",
        "colab": {
          "base_uri": "https://localhost:8080/"
        },
        "outputId": "7bd34525-56b4-4e1f-d3e6-42e97c0413c5"
      },
      "execution_count": null,
      "outputs": [
        {
          "output_type": "stream",
          "name": "stdout",
          "text": [
            "A specific weight before update:  tensor([-0.0075], device='cuda:0', grad_fn=<SelectBackward0>)\n",
            "A specific weight after update: tensor([-0.0065], device='cuda:0', grad_fn=<SelectBackward0>)\n"
          ]
        }
      ]
    },
    {
      "cell_type": "markdown",
      "source": [
        "Dataset: load dataset using the torch.utils.data.Dataset\n",
        "You need to create a class that inherits from the Dataset class containing three main methods: <br>\n",
        "1)__init__ to initialize your dataset <br>\n",
        "2)__len__ to get the lenght of your dataset <br>\n",
        "3)__getitem__ to get the element of the dataset at the given index <br>\n",
        "\n",
        "class CustomDataset(Dataset): <br>\n",
        "  def __init__(self, init_params,\\ transform=None): <br>\n",
        "    self.transform = transform <br>\n",
        "    [...] <br>\n",
        "  def __len__(self): <br>\n",
        "    [...] <br>\n",
        "  def __getitem__(self, idx): <br>\n",
        "    [...] <br>\n",
        "    if self.transform: <br>\n",
        "      sample = self.transform(sample) <br>\n",
        "    return(sample) <br>"
      ],
      "metadata": {
        "id": "YJ81u_WGYPRb"
      }
    },
    {
      "cell_type": "code",
      "source": [
        "def poly_model(x,beta,noise_std=0):\n",
        "  pol_order=len(beta)\n",
        "  x_matrix = np.array([x**i for i in range(pol_order)]).T\n",
        "  y = np.matmul(x_matrix, beta)\n",
        "  noise = np.random.randn(len(y))*noise_std\n",
        "  return y+noise"
      ],
      "metadata": {
        "id": "Eguo1CWDZoPU"
      },
      "execution_count": null,
      "outputs": []
    },
    {
      "cell_type": "code",
      "source": [
        "beta_true = [-1.45, 1.12, 2.3]\n",
        "noise_std = 0.2\n",
        "np.random.seed(4)\n"
      ],
      "metadata": {
        "id": "vDT7LBLsbaUO"
      },
      "execution_count": null,
      "outputs": []
    },
    {
      "cell_type": "code",
      "source": [
        "#train data\n",
        "n_train_points = 20\n",
        "x_train = np.random.rand(n_train_points)\n",
        "y_train = poly_model(x_train, beta_true, noise_std)"
      ],
      "metadata": {
        "id": "_Q4Ze3D0bj7e"
      },
      "execution_count": null,
      "outputs": []
    },
    {
      "cell_type": "code",
      "source": [
        "with open('train_data.csv', 'w') as f:\n",
        "    data = [f\"{x},{y}\" for x, y in zip(x_train, y_train)]\n",
        "    f.write('\\n'.join(data))"
      ],
      "metadata": {
        "id": "LcuKXvMicM_T"
      },
      "execution_count": null,
      "outputs": []
    },
    {
      "cell_type": "code",
      "source": [
        "#test data\n",
        "n_test_points=20\n",
        "x_test = np.random.rand(n_test_points)\n",
        "y_test = poly_model(x_test, beta_true, noise_std)\n",
        "\n",
        "with open('test_data.csv', 'w') as f:\n",
        "  data = [f'{x},{y}' for x,y in zip(x_test, y_test)]\n",
        "  f.write('\\n'.join(data))"
      ],
      "metadata": {
        "id": "UKr8m7dxcUta"
      },
      "execution_count": null,
      "outputs": []
    },
    {
      "cell_type": "code",
      "source": [
        "plt.figure(figsize=(12,8))\n",
        "x_highres = np.linspace(0,1,1000)\n",
        "plt.plot(x_highres, poly_model(x_highres, beta_true), color='b', ls='--', label='True data model')\n",
        "plt.plot(x_train, y_train, color='r', ls='', marker='.', label='Train data points')\n",
        "plt.plot(x_test, y_test, color='g', ls='', marker='.', label='Test data points')\n",
        "plt.xlabel('x')\n",
        "plt.ylabel('y')\n",
        "plt.grid()\n",
        "plt.legend()\n",
        "plt.tight_layout()\n",
        "plt.show()"
      ],
      "metadata": {
        "colab": {
          "base_uri": "https://localhost:8080/",
          "height": 785
        },
        "id": "xgW2yxshc65n",
        "outputId": "0a8d7177-9f9c-43a5-8a96-ed9cc12bb969"
      },
      "execution_count": null,
      "outputs": [
        {
          "output_type": "display_data",
          "data": {
            "text/plain": [
              "<Figure size 1200x800 with 1 Axes>"
            ],
            "image/png": "[encoded data removed]"
          },
          "metadata": {}
        }
      ]
    },
    {
      "cell_type": "code",
      "source": [
        "class CSVDataset(Dataset):\n",
        "  def __init__(self, csv_file, transform=None):\n",
        "    #csv_file = name of the csv file containing the data\n",
        "    #transform= optional transformation of the dataset, here transform=None means no transformation is applyied\n",
        "    self.transform=transform\n",
        "    with open(csv_file, 'r') as f:\n",
        "      lines = f.read().split('\\n')\n",
        "    self.data = []\n",
        "    for line in lines:\n",
        "      sample = line.split(',')\n",
        "      self.data.append(( float(sample[0]), float(sample[1]) ))\n",
        "\n",
        "  def __len__(self):\n",
        "    return len(self.data)\n",
        "\n",
        "  def __getitem__(self, idx):\n",
        "    sample = self.data[idx]\n",
        "    if self.transform:\n",
        "      sample = self.transform(sample)\n",
        "    return sample\n",
        "\n",
        "\n"
      ],
      "metadata": {
        "id": "87Tmg6LcdIMN"
      },
      "execution_count": null,
      "outputs": []
    },
    {
      "cell_type": "code",
      "source": [
        "train_dataset = CSVDataset('train_data.csv')\n",
        "test_dataset = CSVDataset('test_data.csv')\n"
      ],
      "metadata": {
        "id": "-DvhFj_ZevRn"
      },
      "execution_count": null,
      "outputs": []
    },
    {
      "cell_type": "code",
      "source": [
        "print(len(train_dataset))\n",
        "print(train_dataset[3])\n",
        "print(len(test_dataset))\n",
        "print(test_dataset[3])"
      ],
      "metadata": {
        "colab": {
          "base_uri": "https://localhost:8080/"
        },
        "id": "fMyDb_2Re64m",
        "outputId": "7c10c990-7dbe-4009-979b-ef79b301424c"
      },
      "execution_count": null,
      "outputs": [
        {
          "output_type": "stream",
          "name": "stdout",
          "text": [
            "20\n",
            "(0.9751545025675137, 1.9199492194189804)\n",
            "20\n",
            "(0.8115360977242874, 1.0370631585551935)\n"
          ]
        }
      ]
    },
    {
      "cell_type": "code",
      "source": [
        "#Transform the data: implement a callable function in the transform class in order to avoid passing every time the parameters of the transform.\n",
        "class ToTensor(object):\n",
        "  def __call__(self, sample):\n",
        "    x, y = sample\n",
        "    return (torch.Tensor([x]).float(), torch.Tensor([y]).float())\n",
        "\n"
      ],
      "metadata": {
        "id": "dQYrzIUHfIlK"
      },
      "execution_count": null,
      "outputs": []
    },
    {
      "cell_type": "code",
      "source": [
        "to_tensor = ToTensor()\n",
        "sample = (2.3, 3.5)\n",
        "print(to_tensor(sample))"
      ],
      "metadata": {
        "colab": {
          "base_uri": "https://localhost:8080/"
        },
        "id": "YH_kvRYaiZFH",
        "outputId": "2f3b9f61-b2f2-4a24-faa9-8d8b867470bd"
      },
      "execution_count": null,
      "outputs": [
        {
          "output_type": "stream",
          "name": "stdout",
          "text": [
            "(tensor([2.3000]), tensor([3.5000]))\n"
          ]
        }
      ]
    },
    {
      "cell_type": "code",
      "source": [
        "#You can concatenate transformations using the torchvision.transform module\n",
        "composed_transform = transforms.Compose([ToTensor(),\n",
        "                                        #other\n",
        "                                        ])\n"
      ],
      "metadata": {
        "id": "RpSBq91milzl"
      },
      "execution_count": null,
      "outputs": []
    },
    {
      "cell_type": "code",
      "source": [
        "#Test of the composed transformation\n",
        "sample = (2.3, 3.5)\n",
        "print(composed_transform(sample))"
      ],
      "metadata": {
        "colab": {
          "base_uri": "https://localhost:8080/"
        },
        "id": "Vt3axBj2jEb6",
        "outputId": "dc80019d-c111-4d02-ec80-a4f1c6ad2a79"
      },
      "execution_count": null,
      "outputs": [
        {
          "output_type": "stream",
          "name": "stdout",
          "text": [
            "(tensor([2.3000]), tensor([3.5000]))\n"
          ]
        }
      ]
    },
    {
      "cell_type": "code",
      "source": [
        "#Test with CSV dataset\n",
        "train_dataset = CSVDataset('train_data.csv', transform=composed_transform)\n",
        "print(train_dataset[0])"
      ],
      "metadata": {
        "colab": {
          "base_uri": "https://localhost:8080/"
        },
        "id": "fBnRZ1KqjUSv",
        "outputId": "bfa3d0ba-9546-46f1-ccee-12392f786637"
      },
      "execution_count": null,
      "outputs": [
        {
          "output_type": "stream",
          "name": "stdout",
          "text": [
            "(tensor([0.3591]), tensor([-0.9699]))\n"
          ]
        }
      ]
    },
    {
      "cell_type": "code",
      "source": [
        "#By using the Dataset class you can also use the Pytorch Dataloader module\n",
        "#This allows for: Batching the data, Shuffling the data, Load data in parallel using multiprocessing workers"
      ],
      "metadata": {
        "id": "F3YKXtwfjnGQ"
      },
      "execution_count": null,
      "outputs": []
    },
    {
      "cell_type": "code",
      "source": [
        "nw=0\n",
        "train_dataloader = DataLoader(train_dataset, batch_size=4, shuffle=True, num_workers=nw)\n",
        "\n",
        "for i_batch, sample_batched in enumerate(train_dataloader):\n",
        "    print('#################')\n",
        "    print(f'# BATCH {i_batch}')\n",
        "    print('#################')\n",
        "    x_batch = sample_batched[0]\n",
        "    label_batch = sample_batched[1]\n",
        "    print(f\"INPUT DATA (shape: {x_batch.shape})\")\n",
        "    print(x_batch)\n",
        "    print(f\"LABELS (shape: {label_batch.shape})\")\n",
        "    print(label_batch)"
      ],
      "metadata": {
        "colab": {
          "base_uri": "https://localhost:8080/"
        },
        "id": "tqBUVdWRkRE0",
        "outputId": "f1ecb580-0f13-492b-a8e6-60915a6585b0"
      },
      "execution_count": null,
      "outputs": [
        {
          "output_type": "stream",
          "name": "stdout",
          "text": [
            "#################\n",
            "# BATCH 0\n",
            "#################\n",
            "INPUT DATA (shape: torch.Size([4, 1]))\n",
            "tensor([[0.2792],\n",
            "        [0.1450],\n",
            "        [0.9752],\n",
            "        [0.6039]])\n",
            "LABELS (shape: torch.Size([4, 1]))\n",
            "tensor([[-1.2921],\n",
            "        [-1.1605],\n",
            "        [ 1.9199],\n",
            "        [ 0.6225]])\n",
            "#################\n",
            "# BATCH 1\n",
            "#################\n",
            "INPUT DATA (shape: torch.Size([4, 1]))\n",
            "tensor([[0.6032],\n",
            "        [0.0593],\n",
            "        [0.3220],\n",
            "        [0.7427]])\n",
            "LABELS (shape: torch.Size([4, 1]))\n",
            "tensor([[ 0.0754],\n",
            "        [-1.5111],\n",
            "        [-0.7687],\n",
            "        [ 0.7168]])\n",
            "#################\n",
            "# BATCH 2\n",
            "#################\n",
            "INPUT DATA (shape: torch.Size([4, 1]))\n",
            "tensor([[0.7762],\n",
            "        [0.2713],\n",
            "        [0.3929],\n",
            "        [0.4598]])\n",
            "LABELS (shape: torch.Size([4, 1]))\n",
            "tensor([[ 1.0361],\n",
            "        [-0.9533],\n",
            "        [-0.9567],\n",
            "        [-0.6366]])\n",
            "#################\n",
            "# BATCH 3\n",
            "#################\n",
            "INPUT DATA (shape: torch.Size([4, 1]))\n",
            "tensor([[0.0505],\n",
            "        [0.4499],\n",
            "        [0.4286],\n",
            "        [0.7075]])\n",
            "LABELS (shape: torch.Size([4, 1]))\n",
            "tensor([[-0.9787],\n",
            "        [-0.4410],\n",
            "        [-0.5850],\n",
            "        [ 0.6598]])\n",
            "#################\n",
            "# BATCH 4\n",
            "#################\n",
            "INPUT DATA (shape: torch.Size([4, 1]))\n",
            "tensor([[0.3591],\n",
            "        [0.5841],\n",
            "        [0.9162],\n",
            "        [0.2786]])\n",
            "LABELS (shape: torch.Size([4, 1]))\n",
            "tensor([[-0.9699],\n",
            "        [-0.1080],\n",
            "        [ 1.6312],\n",
            "        [-1.2313]])\n"
          ]
        }
      ]
    },
    {
      "cell_type": "code",
      "source": [],
      "metadata": {
        "id": "nllS9ifIk39c"
      },
      "execution_count": null,
      "outputs": []
    }
  ]
}