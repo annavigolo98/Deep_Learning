{
  "nbformat": 4,
  "nbformat_minor": 0,
  "metadata": {
    "colab": {
      "provenance": [],
      "gpuType": "T4"
    },
    "kernelspec": {
      "name": "python3",
      "display_name": "Python 3"
    },
    "language_info": {
      "name": "python"
    },
    "accelerator": "GPU"
  },
  "cells": [
    {
      "cell_type": "code",
      "execution_count": null,
      "metadata": {
        "id": "6VBuO23x5ciR"
      },
      "outputs": [],
      "source": [
        "#GAN Notebook (Generative Adversarial Networks)\n"
      ]
    },
    {
      "cell_type": "code",
      "source": [
        "import matplotlib.pyplot as plt\n",
        "import os\n",
        "import torch\n",
        "import torch.nn as nn\n",
        "from torchvision.datasets import MNIST\n",
        "from torchvision.transforms import ToTensor\n",
        "from torch.utils.data import DataLoader\n",
        "from torchvision.utils import make_grid\n",
        "import time as time\n",
        "import numpy as np\n",
        "from IPython import display\n"
      ],
      "metadata": {
        "id": "8kS5VYWU5jpH"
      },
      "execution_count": null,
      "outputs": []
    },
    {
      "cell_type": "code",
      "source": [
        "dataset = MNIST(root='./', train=False, download=True, transform=ToTensor())\n",
        "image, label = dataset.__getitem__(0)\n",
        "plt.imshow(image.squeeze(0), cmap='binary')\n",
        "plt.show()\n",
        "print('Image size', image.shape)\n",
        "print(\"Label\", label)"
      ],
      "metadata": {
        "colab": {
          "base_uri": "https://localhost:8080/",
          "height": 1000
        },
        "id": "vJFSrIuB6C0n",
        "outputId": "df59f95a-702c-470a-b342-3fadcd7f2f19"
      },
      "execution_count": null,
      "outputs": [
        {
          "output_type": "stream",
          "name": "stdout",
          "text": [
            "Downloading http://yann.lecun.com/exdb/mnist/train-images-idx3-ubyte.gz\n",
            "Failed to download (trying next):\n",
            "HTTP Error 404: Not Found\n",
            "\n",
            "Downloading https://ossci-datasets.s3.amazonaws.com/mnist/train-images-idx3-ubyte.gz\n",
            "Downloading https://ossci-datasets.s3.amazonaws.com/mnist/train-images-idx3-ubyte.gz to ./MNIST/raw/train-images-idx3-ubyte.gz\n"
          ]
        },
        {
          "output_type": "stream",
          "name": "stderr",
          "text": [
            "100%|██████████| 9.91M/9.91M [00:00<00:00, 54.9MB/s]\n"
          ]
        },
        {
          "output_type": "stream",
          "name": "stdout",
          "text": [
            "Extracting ./MNIST/raw/train-images-idx3-ubyte.gz to ./MNIST/raw\n",
            "\n",
            "Downloading http://yann.lecun.com/exdb/mnist/train-labels-idx1-ubyte.gz\n",
            "Failed to download (trying next):\n",
            "HTTP Error 404: Not Found\n",
            "\n",
            "Downloading https://ossci-datasets.s3.amazonaws.com/mnist/train-labels-idx1-ubyte.gz\n",
            "Downloading https://ossci-datasets.s3.amazonaws.com/mnist/train-labels-idx1-ubyte.gz to ./MNIST/raw/train-labels-idx1-ubyte.gz\n"
          ]
        },
        {
          "output_type": "stream",
          "name": "stderr",
          "text": [
            "100%|██████████| 28.9k/28.9k [00:00<00:00, 1.66MB/s]\n"
          ]
        },
        {
          "output_type": "stream",
          "name": "stdout",
          "text": [
            "Extracting ./MNIST/raw/train-labels-idx1-ubyte.gz to ./MNIST/raw\n",
            "\n",
            "Downloading http://yann.lecun.com/exdb/mnist/t10k-images-idx3-ubyte.gz\n",
            "Failed to download (trying next):\n",
            "HTTP Error 404: Not Found\n",
            "\n",
            "Downloading https://ossci-datasets.s3.amazonaws.com/mnist/t10k-images-idx3-ubyte.gz\n",
            "Downloading https://ossci-datasets.s3.amazonaws.com/mnist/t10k-images-idx3-ubyte.gz to ./MNIST/raw/t10k-images-idx3-ubyte.gz\n"
          ]
        },
        {
          "output_type": "stream",
          "name": "stderr",
          "text": [
            "100%|██████████| 1.65M/1.65M [00:00<00:00, 14.3MB/s]\n"
          ]
        },
        {
          "output_type": "stream",
          "name": "stdout",
          "text": [
            "Extracting ./MNIST/raw/t10k-images-idx3-ubyte.gz to ./MNIST/raw\n",
            "\n",
            "Downloading http://yann.lecun.com/exdb/mnist/t10k-labels-idx1-ubyte.gz\n",
            "Failed to download (trying next):\n",
            "HTTP Error 404: Not Found\n",
            "\n",
            "Downloading https://ossci-datasets.s3.amazonaws.com/mnist/t10k-labels-idx1-ubyte.gz\n",
            "Downloading https://ossci-datasets.s3.amazonaws.com/mnist/t10k-labels-idx1-ubyte.gz to ./MNIST/raw/t10k-labels-idx1-ubyte.gz\n"
          ]
        },
        {
          "output_type": "stream",
          "name": "stderr",
          "text": [
            "100%|██████████| 4.54k/4.54k [00:00<00:00, 12.8MB/s]\n"
          ]
        },
        {
          "output_type": "stream",
          "name": "stdout",
          "text": [
            "Extracting ./MNIST/raw/t10k-labels-idx1-ubyte.gz to ./MNIST/raw\n",
            "\n"
          ]
        },
        {
          "output_type": "display_data",
          "data": {
            "text/plain": [
              "<Figure size 640x480 with 1 Axes>"
            ],
            "image/png": "[encoded data removed]"
          },
          "metadata": {}
        },
        {
          "output_type": "stream",
          "name": "stdout",
          "text": [
            "Image size torch.Size([1, 28, 28])\n",
            "Label 7\n"
          ]
        }
      ]
    },
    {
      "cell_type": "code",
      "source": [
        "BATCH_SIZE=128\n",
        "device='cuda' if torch.cuda.is_available() else 'cpu'\n",
        "dataloader = DataLoader(dataset, batch_size=BATCH_SIZE, shuffle=True, num_workers=os.cpu_count())\n",
        "\n"
      ],
      "metadata": {
        "id": "JudUde2x64Rw"
      },
      "execution_count": null,
      "outputs": []
    },
    {
      "cell_type": "code",
      "source": [
        "#Generator class\n",
        "class Generator(nn.Module):\n",
        "  def __init__(self, input_size):\n",
        "    super().__init__()\n",
        "\n",
        "    self.input_size=input_size\n",
        "\n",
        "    self.fc_net = nn.Sequential(\n",
        "        nn.Linear(input_size, 256*7*7, bias=False),\n",
        "        nn.BatchNorm1d(256*7*7),\n",
        "        nn.LeakyReLU()\n",
        "        )\n",
        "\n",
        "    #kernel_size=5\n",
        "    self.conv_model = nn.Sequential(\n",
        "        nn.ConvTranspose2d(256, 128, 5, bias=False, padding=2),\n",
        "        nn.BatchNorm2d((128)),\n",
        "        nn.LeakyReLU(),\n",
        "        nn.ConvTranspose2d(128, 64, 5, bias=False, stride=2, padding=2, output_padding=1),\n",
        "        nn.BatchNorm2d((64)),\n",
        "        nn.LeakyReLU(),\n",
        "        nn.ConvTranspose2d(64, 1, 5, bias=False, stride=2, padding=2, output_padding=1),\n",
        "        nn.Sigmoid()\n",
        "        )\n",
        "\n",
        "  def forward(self, x):\n",
        "    y = self.fc_net(x)\n",
        "    y = y.reshape((-1,256,7,7)) #Reshapes x from Nx(256*7*7) to Nx256x7x7\n",
        "    y = self.conv_model(y)\n",
        "    return y"
      ],
      "metadata": {
        "id": "tyxYQ6YT8n1w"
      },
      "execution_count": null,
      "outputs": []
    },
    {
      "cell_type": "code",
      "source": [
        "  def weights_init(m):\n",
        "    classname = m.__class__.__name__\n",
        "    if classname.find('Conv') != -1:\n",
        "      nn.init.xavier_uniform_(m.weight.data)\n",
        "    if classname.find('Linear') != -1:\n",
        "      nn.init.xavier_uniform_(m.weight.data)\n",
        "    elif classname.find('BatchNorm') != -1:\n",
        "      nn.init.normal_(m.weight.data, 1.0, 0.2)\n",
        "      nn.init.constant_(m.bias.data, 0)"
      ],
      "metadata": {
        "id": "5vcVMe76El7S"
      },
      "execution_count": null,
      "outputs": []
    },
    {
      "cell_type": "code",
      "source": [
        "#Provide a noise vector of size [1,100]\n",
        "generator = Generator(100)\n",
        "generator.apply(weights_init)"
      ],
      "metadata": {
        "colab": {
          "base_uri": "https://localhost:8080/"
        },
        "id": "2ndHMZ2BDrbF",
        "outputId": "93797a32-c894-41b8-9ea8-8f02305cc40f"
      },
      "execution_count": null,
      "outputs": [
        {
          "output_type": "execute_result",
          "data": {
            "text/plain": [
              "Generator(\n",
              "  (fc_net): Sequential(\n",
              "    (0): Linear(in_features=100, out_features=12544, bias=False)\n",
              "    (1): BatchNorm1d(12544, eps=1e-05, momentum=0.1, affine=True, track_running_stats=True)\n",
              "    (2): LeakyReLU(negative_slope=0.01)\n",
              "  )\n",
              "  (conv_model): Sequential(\n",
              "    (0): ConvTranspose2d(256, 128, kernel_size=(5, 5), stride=(1, 1), padding=(2, 2), bias=False)\n",
              "    (1): BatchNorm2d(128, eps=1e-05, momentum=0.1, affine=True, track_running_stats=True)\n",
              "    (2): LeakyReLU(negative_slope=0.01)\n",
              "    (3): ConvTranspose2d(128, 64, kernel_size=(5, 5), stride=(2, 2), padding=(2, 2), output_padding=(1, 1), bias=False)\n",
              "    (4): BatchNorm2d(64, eps=1e-05, momentum=0.1, affine=True, track_running_stats=True)\n",
              "    (5): LeakyReLU(negative_slope=0.01)\n",
              "    (6): ConvTranspose2d(64, 1, kernel_size=(5, 5), stride=(2, 2), padding=(2, 2), output_padding=(1, 1), bias=False)\n",
              "    (7): Sigmoid()\n",
              "  )\n",
              ")"
            ]
          },
          "metadata": {},
          "execution_count": 8
        }
      ]
    },
    {
      "cell_type": "code",
      "source": [
        "noise = torch.normal(0, 1, [10, 100])\n",
        "print(noise.shape)\n",
        "generated_image = generator(noise).detach()\n",
        "print(generated_image.shape)\n",
        "\n",
        "plt.imshow(generated_image.squeeze()[0], cmap='gray')"
      ],
      "metadata": {
        "colab": {
          "base_uri": "https://localhost:8080/",
          "height": 482
        },
        "id": "BDaaLtOiEsv8",
        "outputId": "41cf6f9d-62ae-4cc0-e7fa-4e579173c741"
      },
      "execution_count": null,
      "outputs": [
        {
          "output_type": "stream",
          "name": "stdout",
          "text": [
            "torch.Size([10, 100])\n",
            "torch.Size([10, 1, 28, 28])\n"
          ]
        },
        {
          "output_type": "execute_result",
          "data": {
            "text/plain": [
              "<matplotlib.image.AxesImage at 0x7a3b982757d0>"
            ]
          },
          "metadata": {},
          "execution_count": 9
        },
        {
          "output_type": "display_data",
          "data": {
            "text/plain": [
              "<Figure size 640x480 with 1 Axes>"
            ],
            "image/png": "[encoded data removed]"
          },
          "metadata": {}
        }
      ]
    },
    {
      "cell_type": "code",
      "source": [
        "#Discriminator\n",
        "class Discriminator(nn.Module):\n",
        "  def __init__(self):\n",
        "    super().__init__()\n",
        "\n",
        "    #kernel_size=5 input_channels = 1\n",
        "    self.model = nn.Sequential(\n",
        "        nn.Conv2d(1, 64, 5, stride=2, padding=2),\n",
        "        nn.LeakyReLU(),\n",
        "        nn.Dropout(0.3),\n",
        "        nn.Conv2d(64, 128, 5, stride=2, padding=2),\n",
        "        nn.LeakyReLU(),\n",
        "        nn.Dropout(0.3),\n",
        "        nn.Conv2d(128, 128, 5, stride=2, padding=2),\n",
        "        nn.LeakyReLU(),\n",
        "        nn.Dropout(0.3),\n",
        "        nn.Flatten(),\n",
        "        nn.Linear(2048,1)\n",
        "        )\n",
        "\n",
        "  def forward(self, x):\n",
        "    y = self.model(x)\n",
        "    return y"
      ],
      "metadata": {
        "id": "Qd4B5yFWFN9C"
      },
      "execution_count": null,
      "outputs": []
    },
    {
      "cell_type": "code",
      "source": [
        "discriminator = Discriminator()\n",
        "discriminator.apply(weights_init)"
      ],
      "metadata": {
        "colab": {
          "base_uri": "https://localhost:8080/"
        },
        "id": "9trQrLxMHTLP",
        "outputId": "e7d5cee1-f2f0-4a41-80dd-ad35b4c3da30"
      },
      "execution_count": null,
      "outputs": [
        {
          "output_type": "execute_result",
          "data": {
            "text/plain": [
              "Discriminator(\n",
              "  (model): Sequential(\n",
              "    (0): Conv2d(1, 64, kernel_size=(5, 5), stride=(2, 2), padding=(2, 2))\n",
              "    (1): LeakyReLU(negative_slope=0.01)\n",
              "    (2): Dropout(p=0.3, inplace=False)\n",
              "    (3): Conv2d(64, 128, kernel_size=(5, 5), stride=(2, 2), padding=(2, 2))\n",
              "    (4): LeakyReLU(negative_slope=0.01)\n",
              "    (5): Dropout(p=0.3, inplace=False)\n",
              "    (6): Conv2d(128, 128, kernel_size=(5, 5), stride=(2, 2), padding=(2, 2))\n",
              "    (7): LeakyReLU(negative_slope=0.01)\n",
              "    (8): Dropout(p=0.3, inplace=False)\n",
              "    (9): Flatten(start_dim=1, end_dim=-1)\n",
              "    (10): Linear(in_features=2048, out_features=1, bias=True)\n",
              "  )\n",
              ")"
            ]
          },
          "metadata": {},
          "execution_count": 11
        }
      ]
    },
    {
      "cell_type": "code",
      "source": [
        "decision = discriminator(generated_image)\n",
        "print(decision)"
      ],
      "metadata": {
        "colab": {
          "base_uri": "https://localhost:8080/"
        },
        "id": "O9sydPfMH9S4",
        "outputId": "593e5991-b1f0-42b6-f827-87697ace81ac"
      },
      "execution_count": null,
      "outputs": [
        {
          "output_type": "stream",
          "name": "stdout",
          "text": [
            "tensor([[-0.1421],\n",
            "        [-0.1294],\n",
            "        [-0.0488],\n",
            "        [-0.1553],\n",
            "        [-0.0771],\n",
            "        [-0.0975],\n",
            "        [-0.1525],\n",
            "        [-0.0357],\n",
            "        [-0.0977],\n",
            "        [-0.0247]], grad_fn=<AddmmBackward0>)\n"
          ]
        }
      ]
    },
    {
      "cell_type": "code",
      "source": [
        "#Define the GAN Discriminator loss\n",
        "cross_entropy = nn.BCEWithLogitsLoss()\n",
        "def discriminator_loss(real_output, fake_output, device):\n",
        "  #cross_entropy(input_tensor, target_tensor)\n",
        "  real_loss = cross_entropy(real_output, torch.ones_like(real_output, device=device))\n",
        "  fake_loss = cross_entropy(fake_output, torch.zeros_like(fake_output, device=device))\n",
        "  total_loss = real_loss + fake_loss\n",
        "  return total_loss"
      ],
      "metadata": {
        "id": "xchdGnflIE0O"
      },
      "execution_count": null,
      "outputs": []
    },
    {
      "cell_type": "code",
      "source": [
        "#Generator loss\n",
        "def generator_loss(fake_output, device):\n",
        "  gen_loss = cross_entropy(fake_output, torch.ones_like(fake_output, device=device))\n",
        "  return gen_loss"
      ],
      "metadata": {
        "id": "x1q8Lij_Jp7b"
      },
      "execution_count": null,
      "outputs": []
    },
    {
      "cell_type": "code",
      "source": [
        "gen_opt = torch.optim.Adam(generator.parameters(), lr=2e-4)\n",
        "dis_opt = torch.optim.Adam(discriminator.parameters(), lr=2e-4)\n",
        "\n"
      ],
      "metadata": {
        "id": "yLN2iozcKjJA"
      },
      "execution_count": null,
      "outputs": []
    },
    {
      "cell_type": "code",
      "source": [
        "EPOCHS = 100\n",
        "noise_dim = 100\n",
        "num_examples_to_generate = 16\n",
        "seed = torch.randn([num_examples_to_generate, noise_dim], device=device)\n"
      ],
      "metadata": {
        "id": "WeETYQJdV9mc"
      },
      "execution_count": null,
      "outputs": []
    },
    {
      "cell_type": "code",
      "source": [
        "def train_step(images, generator, discriminator, BATCH_SIZE, noise_dim, device, dis_opt, gen_opt):\n",
        "  #detach the generated images when iptimizing the Discriminator, do not want gradients to flow through Generator in this step.\n",
        "  noise = torch.randn([BATCH_SIZE, noise_dim], device=device)\n",
        "\n",
        "  #Generate images\n",
        "  generated_images = generator(noise)\n",
        "\n",
        "  #Classify true and fake images (NB: remember to stop gradient using detach when predicting fake images)\n",
        "  real_output = discriminator(images)\n",
        "  fake_output = discriminator(generated_images.detach())\n",
        "\n",
        "  #Compute discriminator loss and update the discriminator\n",
        "  disc_loss = discriminator_loss(real_output, fake_output, device)\n",
        "  dis_opt.zero_grad()\n",
        "  disc_loss.backward()\n",
        "  dis_opt.step()\n",
        "\n",
        "  #Compute predictions where gradients can flow to the generator of fake samples\n",
        "  fake_output = discriminator(generated_images)\n",
        "\n",
        "  #Compute the gradient loss and update the generator\n",
        "  gen_loss = generator_loss(fake_output, device)\n",
        "  gen_opt.zero_grad()\n",
        "  gen_loss.backward()\n",
        "  gen_opt.step()\n",
        "\n",
        "  return gen_loss, disc_loss\n"
      ],
      "metadata": {
        "id": "1IbYWtqRWbc5"
      },
      "execution_count": null,
      "outputs": []
    },
    {
      "cell_type": "code",
      "source": [
        "def generate_and_save_images(model, epoch, test_input):\n",
        "  model.eval()\n",
        "  with torch.no_grad():\n",
        "    predictions = model(test_input).detach().cpu()*250\n",
        "  grid = make_grid(predictions, 4).numpy().squeeze().transpose(1,2,0)\n",
        "\n",
        "  plt.imshow(grid.astype(np.uint8), cmap='binary')\n",
        "  plt.axis('off')\n",
        "\n",
        "  plt.savefig('image_at_epoch_{:04d}.png'.format(epoch))\n",
        "  plt.show()\n",
        "\n",
        "  model.train()"
      ],
      "metadata": {
        "id": "-T4t0dsNcXoO"
      },
      "execution_count": null,
      "outputs": []
    },
    {
      "cell_type": "code",
      "source": [
        "def train(dataloader, epochs, generator, discriminator, BATCH_SIZE, noise_dim, device, dis_opt, gen_opt):\n",
        "  gloss=[]\n",
        "  dloss=[]\n",
        "  for epoch in range(epochs):\n",
        "    start = time.time()\n",
        "\n",
        "    gen_losses=[]\n",
        "    disc_losses=[]\n",
        "    for image_batch, _ in dataloader:\n",
        "      image_batch = image_batch.to(device)\n",
        "      gen_loss, disc_loss = train_step(image_batch, generator, discriminator, BATCH_SIZE, noise_dim, device, dis_opt, gen_opt)\n",
        "      gen_losses.append(gen_loss.detach().cpu())\n",
        "      disc_losses.append(disc_loss.detach().cpu())\n",
        "\n",
        "    gloss.append(np.mean(gen_losses))\n",
        "    dloss.append(np.mean(disc_losses))\n",
        "    #Produce images\n",
        "\n",
        "    display.clear_output(wait=True)\n",
        "    generate_and_save_images(generator, epoch+1, seed)\n",
        "    print('Time for epoch {} is {} sec'.format(epoch+1, time.time()-start))\n",
        "\n",
        "  #Generate after final epoch\n",
        "  display.clear_output(wait=True)\n",
        "  generate_and_save_images(generator, epochs, seed)\n",
        "\n",
        "  return gloss, dloss"
      ],
      "metadata": {
        "id": "Kg-jSQ-0eiLP"
      },
      "execution_count": null,
      "outputs": []
    },
    {
      "cell_type": "code",
      "source": [
        "generator.to(device)\n",
        "discriminator.to(device)\n",
        "gloss, dloss = train(dataloader, EPOCHS, generator, discriminator, BATCH_SIZE, noise_dim, device, dis_opt, gen_opt)\n"
      ],
      "metadata": {
        "colab": {
          "base_uri": "https://localhost:8080/",
          "height": 406
        },
        "id": "yHf5szexgVdv",
        "outputId": "ac2a22af-0016-48de-d123-99c5a87f9179"
      },
      "execution_count": null,
      "outputs": [
        {
          "output_type": "display_data",
          "data": {
            "text/plain": [
              "<Figure size 640x480 with 1 Axes>"
            ],
            "image/png": "[encoded data removed]"
          },
          "metadata": {}
        }
      ]
    },
    {
      "cell_type": "code",
      "source": [
        "plt.plot(gloss, label=\"Generator loss\")\n",
        "plt.plot(dloss, label=\"Discriminator loss\")\n",
        "plt.legend()\n",
        "plt.show()"
      ],
      "metadata": {
        "colab": {
          "base_uri": "https://localhost:8080/",
          "height": 430
        },
        "id": "hB7NFQrZg-gq",
        "outputId": "653cd2bd-83aa-47bd-9898-1352da2d51e6"
      },
      "execution_count": null,
      "outputs": [
        {
          "output_type": "display_data",
          "data": {
            "text/plain": [
              "<Figure size 640x480 with 1 Axes>"
            ],
            "image/png": "[encoded data removed]"
          },
          "metadata": {}
        }
      ]
    }
  ]
}